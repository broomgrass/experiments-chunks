{
 "cells": [
  {
   "cell_type": "markdown",
   "metadata": {},
   "source": [
    "# writing new files"
   ]
  },
  {
   "cell_type": "markdown",
   "metadata": {},
   "source": [
    "### basic structure\n",
    "\n"
   ]
  },
  {
   "cell_type": "code",
   "execution_count": 47,
   "metadata": {
    "collapsed": false
   },
   "outputs": [],
   "source": [
    "import os\n",
    "from bs4 import BeautifulSoup"
   ]
  },
  {
   "cell_type": "code",
   "execution_count": 48,
   "metadata": {
    "collapsed": false
   },
   "outputs": [],
   "source": [
    "f = open('HelloWorld.txt', 'w')\n",
    "text = \"Bonjour world!\"\n",
    "f.write(text)\n",
    "f.close()"
   ]
  },
  {
   "cell_type": "code",
   "execution_count": null,
   "metadata": {
    "collapsed": true
   },
   "outputs": [],
   "source": []
  },
  {
   "cell_type": "code",
   "execution_count": 49,
   "metadata": {
    "collapsed": false
   },
   "outputs": [
    {
     "name": "stdout",
     "output_type": "stream",
     "text": [
      "Bonjour world!\n"
     ]
    }
   ],
   "source": [
    "with open('HelloWorld.txt', 'r') as letuslook:\n",
    "    print(letuslook.read())"
   ]
  },
  {
   "cell_type": "markdown",
   "metadata": {},
   "source": [
    "### one step more advanced: writing from a soup"
   ]
  },
  {
   "cell_type": "code",
   "execution_count": 50,
   "metadata": {
    "collapsed": false
   },
   "outputs": [
    {
     "name": "stdout",
     "output_type": "stream",
     "text": [
      "THE NEW ATLAS: OR, T\n"
     ]
    }
   ],
   "source": [
    "with open('C:/Users/ASUS/Documents/iPython/data/DREaM/withXML/testcorpus/1698 1698 - T C - The New atlas or Travels.xml') as fDREAM:   \n",
    "    soup = BeautifulSoup(fDREAM, \"xml\")\n",
    "    # the TEXT knows to grab the text from in between the two TEXT tags\n",
    "    # at the beginning and end of the text that I want\n",
    "    # ie, minus the header.\n",
    "    soupedtext = soup.TEXT.get_text()\n",
    "    stringlist = soupedtext.split()\n",
    "    finalstring = \" \".join(stringlist)\n",
    "    print(finalstring[:20])\n",
    "    with open(\"NEWFILE.txt\", \"w\") as newfile:\n",
    "        newfile.write(finalstring)\n",
    "    \n",
    "    \n"
   ]
  },
  {
   "cell_type": "code",
   "execution_count": 68,
   "metadata": {
    "collapsed": false
   },
   "outputs": [
    {
     "name": "stdout",
     "output_type": "stream",
     "text": [
      "THE NEW ATLAS: OR, Travels and Voyages IN Europe, Asia, Africa and America, Through the most Renowned Parts of the WORLD, VIZ. From England to the Dardanelles, thence to Constantinople, Egypt, Palestine, or the Holy Land, Syria, Mesopotamia, Child, Persia, East-India, China, Tartary, Muscovy, and by Poland; the German Empire, Flanders and Holland, to Spain and the West-Indies; with a brief Account of Aethiopia, and the Pilgrimages to Mecha and Medina in Arabia, containing what is Rare and Worthy\n"
     ]
    }
   ],
   "source": [
    "with open(\"NEWFILE.txt\", \"r\") as newfile:\n",
    "    print(newfile.read()[:500])"
   ]
  },
  {
   "cell_type": "markdown",
   "metadata": {},
   "source": [
    "## Writing tcpid as the filename\n",
    "This wasn't working before - let's see if I can put it together."
   ]
  },
  {
   "cell_type": "code",
   "execution_count": 52,
   "metadata": {
    "collapsed": false
   },
   "outputs": [
    {
     "name": "stdout",
     "output_type": "stream",
     "text": [
      "['C:\\\\Users\\\\ASUS\\\\Documents\\\\iPython\\\\data\\\\DREaM\\\\withXML\\\\minicorpus\\\\1698 1698 - T C - The New atlas or Travels.xml']\n"
     ]
    }
   ],
   "source": [
    "data_dir = 'C:\\\\Users\\\\ASUS\\\\Documents\\\\iPython\\\\data\\\\DREaM\\\\withXML\\\\minicorpus\\\\'\n",
    "listdata_dir = os.listdir(data_dir)\n",
    "fullname = []\n",
    "for name in listdata_dir:\n",
    "    filename = data_dir+name\n",
    "    fullname.append(filename)\n",
    "print(fullname)"
   ]
  },
  {
   "cell_type": "markdown",
   "metadata": {},
   "source": [
    "### but first, a handy little function\n",
    "\n",
    "It doesn't totally remove the text, but it does save some extra copying/pasting/typing."
   ]
  },
  {
   "cell_type": "code",
   "execution_count": 54,
   "metadata": {
    "collapsed": true
   },
   "outputs": [],
   "source": [
    "def fromsouptoplain(soupedtext):\n",
    "    stringlist = soupedtext.split()\n",
    "    finalstring = \" \".join(stringlist)\n",
    "    return finalstring\n",
    "    "
   ]
  },
  {
   "cell_type": "code",
   "execution_count": 58,
   "metadata": {
    "collapsed": false
   },
   "outputs": [
    {
     "name": "stdout",
     "output_type": "stream",
     "text": [
      "A31298.hdr\n",
      "The New atlas, or, Travels and voyages in Europe, Asia, Africa, and America, thro' the most renowned parts of the world ... performed by an English gentleman, in nine years travel and voyages, more exact than ever.\n",
      "T. C.\n",
      "1698.\n",
      "--------\n"
     ]
    }
   ],
   "source": [
    "for file in fullname:\n",
    "    with open(file) as f:\n",
    "        soup = BeautifulSoup(f, \"xml\")\n",
    "        \n",
    "        # TCP ID number\n",
    "        tcpid = soup.tcpid.get_text()\n",
    "        finaltcpid = fromsouptoplain(tcpid)\n",
    "        \n",
    "        # Title of the work\n",
    "        title = soup.title.get_text()\n",
    "        finaltitle = fromsouptoplain(title)\n",
    "\n",
    "        \n",
    "        # Author of the work\n",
    "        author = soup.author.get_text()\n",
    "        finalauthor = fromsouptoplain(author)\n",
    "        \n",
    "        # date of the work\n",
    "        date = soup.date.get_text()\n",
    "        finaldate = fromsouptoplain(date)\n",
    "        \n",
    "        # souped text\n",
    "        soupedtext = soup.TEXT.get_text()\n",
    "        finaltext = fromsouptoplain(soupedtext)\n",
    "\n",
    "        print(finaltcpid)\n",
    "        print(finaltitle)\n",
    "        print(finalauthor)\n",
    "        print(finaldate)\n",
    "        print('--------')\n",
    "        \n",
    "        \n",
    "        # Let's try write the new file, using finaltcpid as the filename.\n",
    "        \n",
    "        with open(tcpid+'.txt', \"w\") as newfile:\n",
    "            newfile.write(finaltext)\n",
    "    "
   ]
  },
  {
   "cell_type": "markdown",
   "metadata": {},
   "source": [
    "## And now, with multiple files!\n",
    "\n",
    "Let's see how well it works with three files, and with my if statements built in..."
   ]
  },
  {
   "cell_type": "code",
   "execution_count": 59,
   "metadata": {
    "collapsed": false
   },
   "outputs": [
    {
     "name": "stdout",
     "output_type": "stream",
     "text": [
      "['C:\\\\Users\\\\ASUS\\\\Documents\\\\iPython\\\\data\\\\DREaM\\\\withXML\\\\testcorpus\\\\1600 1600 - Constable Henry 1562-1613 - Discoverye of a counterfe-other.xml', 'C:\\\\Users\\\\ASUS\\\\Documents\\\\iPython\\\\data\\\\DREaM\\\\withXML\\\\testcorpus\\\\1601 1601 - Parry William fl 1601 - A new and large discourse.xml', 'C:\\\\Users\\\\ASUS\\\\Documents\\\\iPython\\\\data\\\\DREaM\\\\withXML\\\\testcorpus\\\\1698 1698 - T C - The New atlas or Travels.xml']\n"
     ]
    }
   ],
   "source": [
    "data_dir = 'C:\\\\Users\\\\ASUS\\\\Documents\\\\iPython\\\\data\\\\DREaM\\\\withXML\\\\testcorpus\\\\'\n",
    "listdata_dir = os.listdir(data_dir)\n",
    "fullname = []\n",
    "for name in listdata_dir:\n",
    "    filename = data_dir+name\n",
    "    fullname.append(filename)\n",
    "print(fullname)"
   ]
  },
  {
   "cell_type": "code",
   "execution_count": 66,
   "metadata": {
    "collapsed": false
   },
   "outputs": [
    {
     "name": "stdout",
     "output_type": "stream",
     "text": [
      "This text was saved: Discoverye of a counterfe\n",
      "\n",
      "This text was saved: A new and large discourse\n",
      "\n",
      "This text was saved: The New atlas, or, Travel\n",
      "\n"
     ]
    }
   ],
   "source": [
    "for file in fullname:\n",
    "    with open(file) as f:\n",
    "        soup = BeautifulSoup(f, \"xml\")\n",
    "        \n",
    "        # depending on the tag (<TEXTS> or <texts>)...\n",
    "        \n",
    "        if soup.find('TEXT'):\n",
    "            # TCP ID number\n",
    "            tcpid = soup.tcpid.get_text()\n",
    "            finaltcpid = fromsouptoplain(tcpid)\n",
    "\n",
    "            # Title of the work\n",
    "            title = soup.title.get_text()\n",
    "            finaltitle = fromsouptoplain(title)\n",
    "\n",
    "\n",
    "            # Author of the work\n",
    "            author = soup.author.get_text()\n",
    "            finalauthor = fromsouptoplain(author)\n",
    "\n",
    "            # date of the work\n",
    "            date = soup.date.get_text()\n",
    "            finaldate = fromsouptoplain(date)\n",
    "\n",
    "            # souped text\n",
    "            soupedtext = soup.TEXTS.get_text()\n",
    "            finaltext = fromsouptoplain(soupedtext)\n",
    "\n",
    "\n",
    "            # Let's try write the new file, using finaltcpid as the filename.\n",
    "\n",
    "            with open(\"testfiles/\"+finaltcpid+'.txt', \"w\") as newfile:\n",
    "                newfile.write(finaltext)\n",
    "            \n",
    "            print(\"This text was saved: \" + finaltitle[:25] + \"\\n\")\n",
    "\n",
    "                \n",
    "        #######################################\n",
    "        \n",
    "        elif soup.find('text'):\n",
    "            # TCP ID number\n",
    "            tcpid = soup.tcpid.get_text()\n",
    "            finaltcpid = fromsouptoplain(tcpid)\n",
    "\n",
    "            # Title of the work\n",
    "            title = soup.title.get_text()\n",
    "            finaltitle = fromsouptoplain(title)\n",
    "\n",
    "\n",
    "            # Author of the work\n",
    "            author = soup.author.get_text()\n",
    "            finalauthor = fromsouptoplain(author)\n",
    "\n",
    "            # date of the work\n",
    "            date = soup.date.get_text()\n",
    "            finaldate = fromsouptoplain(date)\n",
    "\n",
    "            # souped text\n",
    "            soupedtext = soup.texts.get_text()\n",
    "            finaltext = fromsouptoplain(soupedtext)\n",
    "            \n",
    "            # Let's try to write the new file, using finaltcpid as the filename\n",
    "            with open(\"testfiles/\"+finaltcpid+'.txt', \"w\") as newfile:\n",
    "                newfile.write(finaltext)\n",
    "                \n",
    "            print(\"This text was saved: \" + finaltitle[:25] + \"\\n\")\n",
    "        \n",
    "        else:\n",
    "            print(\"This text was saved: \" + finaltitle[:25] + \"\\n\")\n",
    "        \n",
    "    "
   ]
  },
  {
   "cell_type": "code",
   "execution_count": 70,
   "metadata": {
    "collapsed": false
   },
   "outputs": [
    {
     "name": "stdout",
     "output_type": "stream",
     "text": [
      "A DISCOVERY OF A COVNTERFECTE CONFERENCE held at a counterfecte place, by counterfecte travellers, for thadvancement of a counterfecte title , and invented, printed, and published by one (PERSON) that dare not avovve his name. Printed at Collen. 1600. TO THE AVCTOR OF the counterfeit confereÌ„ce &c. ITvvere as easy for meyf Ivvould to discover your name with assured proofs as to detect the devises and dristes of your conterfeat conference made at Amsterdam, but since as it seems you are ashamed \n"
     ]
    }
   ],
   "source": [
    "with open('testfiles/A19224.hdr.txt', 'r') as letuslook:\n",
    "    print(letuslook.read()[:500])"
   ]
  },
  {
   "cell_type": "markdown",
   "metadata": {},
   "source": [
    "# yaaaaaaaaaasssss\n",
    "\n",
    "I could also save this with chunks of the metadata tags still in, but I'll have to see what the best method is."
   ]
  },
  {
   "cell_type": "code",
   "execution_count": null,
   "metadata": {
    "collapsed": true
   },
   "outputs": [],
   "source": []
  }
 ],
 "metadata": {
  "kernelspec": {
   "display_name": "Python 3",
   "language": "python",
   "name": "python3"
  },
  "language_info": {
   "codemirror_mode": {
    "name": "ipython",
    "version": 3
   },
   "file_extension": ".py",
   "mimetype": "text/x-python",
   "name": "python",
   "nbconvert_exporter": "python",
   "pygments_lexer": "ipython3",
   "version": "3.5.1"
  }
 },
 "nbformat": 4,
 "nbformat_minor": 0
}
