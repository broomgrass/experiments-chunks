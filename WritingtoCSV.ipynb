{
 "cells": [
  {
   "cell_type": "markdown",
   "metadata": {},
   "source": [
    "## CSV experiments\n",
    "\n",
    "In this notebook, I'm going to be keeping track of some of my experiments with CSV writer.\n",
    "\n",
    "The first thing, is to get it to work!"
   ]
  },
  {
   "cell_type": "code",
   "execution_count": 49,
   "metadata": {
    "collapsed": true
   },
   "outputs": [],
   "source": [
    "import csv"
   ]
  },
  {
   "cell_type": "markdown",
   "metadata": {},
   "source": [
    "Here is a basic structure, from the [Python documentation website](https://docs.python.org/3/library/csv.html). Note that I am using DictWriter so that I can have a header.\n",
    "\n",
    "Also, because I'm using 'with', I don't have to close the file after - it will automatically close."
   ]
  },
  {
   "cell_type": "code",
   "execution_count": 50,
   "metadata": {
    "collapsed": false
   },
   "outputs": [],
   "source": [
    "with open('names.csv', 'w') as csvfile:\n",
    "    fieldnames = ['name', 'title', 'pubdate']\n",
    "    writer = csv.DictWriter(csvfile, fieldnames = fieldnames)\n",
    "    writer.writeheader()\n",
    "    writer.writerow({'name': 'Richardson', 'title': 'Clarissa', 'pubdate': '1748'})"
   ]
  },
  {
   "cell_type": "markdown",
   "metadata": {},
   "source": [
    "Let's see what it looks like!"
   ]
  },
  {
   "cell_type": "code",
   "execution_count": 51,
   "metadata": {
    "collapsed": false
   },
   "outputs": [
    {
     "name": "stdout",
     "output_type": "stream",
     "text": [
      "Richardson Clarissa\n"
     ]
    }
   ],
   "source": [
    "with open('names.csv') as names:\n",
    "    reader = csv.DictReader(names)\n",
    "    for row in reader:\n",
    "        print(row['name'], row['title'])\n",
    "    names.close()"
   ]
  },
  {
   "cell_type": "markdown",
   "metadata": {},
   "source": [
    "Okay, cool! So now, what if I want to add to the file? I made sure to use 'a' so I don't overwrite my file..."
   ]
  },
  {
   "cell_type": "code",
   "execution_count": 52,
   "metadata": {
    "collapsed": false
   },
   "outputs": [],
   "source": [
    "with open('names.csv', 'a') as csvfile:\n",
    "    fieldnames = ['name', 'title', 'pubdate']\n",
    "    writer = csv.DictWriter(csvfile, delimiter=',', fieldnames = fieldnames)\n",
    "    writer.writerow({'name': 'Sterne', 'title': 'Sentimental Journey', 'pubdate': '1768'})"
   ]
  },
  {
   "cell_type": "code",
   "execution_count": 53,
   "metadata": {
    "collapsed": false
   },
   "outputs": [
    {
     "name": "stdout",
     "output_type": "stream",
     "text": [
      "Richardson Clarissa 1748\n",
      "Sterne Sentimental Journey 1768\n"
     ]
    }
   ],
   "source": [
    "with open('names.csv') as names:\n",
    "    reader = csv.DictReader(names)\n",
    "    for row in reader:\n",
    "        print(row['name'], row['title'], row['pubdate'])\n",
    "    names.close()"
   ]
  },
  {
   "cell_type": "markdown",
   "metadata": {},
   "source": [
    "Great - looks like using \"a\" worked well. However, I am getting whitespace in between each row, which isn't ideal. But for now, let's see if I can start to automize this using my Beautiful Soup info!"
   ]
  },
  {
   "cell_type": "code",
   "execution_count": 54,
   "metadata": {
    "collapsed": true
   },
   "outputs": [],
   "source": [
    "from bs4 import BeautifulSoup"
   ]
  },
  {
   "cell_type": "code",
   "execution_count": 55,
   "metadata": {
    "collapsed": false
   },
   "outputs": [],
   "source": [
    "testFile = open('1698 1698 - T C - The New atlas or Travels.xml')\n",
    "\n",
    "# for this testfile, I removed most of the body text."
   ]
  },
  {
   "cell_type": "code",
   "execution_count": 56,
   "metadata": {
    "collapsed": false
   },
   "outputs": [],
   "source": [
    "soup = BeautifulSoup(testFile, 'xml')"
   ]
  },
  {
   "cell_type": "code",
   "execution_count": 57,
   "metadata": {
    "collapsed": false
   },
   "outputs": [
    {
     "name": "stdout",
     "output_type": "stream",
     "text": [
      "<?xml version=\"1.0\" encoding=\"utf-8\"?>\n",
      "<EEBO><dreamheader>\n",
      "<tcpdata>\n",
      "<tcpid phase=\"2\">A31298.hdr</tcpid>\n",
      "<fileDesc>\n",
      "<titleStmt>\n",
      "<title>The New atlas, or, Travels and voyages in Europe, Asia, Africa, and America, thro' the most renowned parts of the world ... performed by an English gentleman, in nine years travel and voyages, more exact than ever.</title>\n",
      "<author>T. C.</author>\n",
      "</titleStmt>\n",
      "<publicationStmt>\n",
      "<date>1698.</date>\n",
      "<pubPlace>London :</pubPlace>\n",
      "<publisher>Printed for J. Cleave ... and A. Roper ...,</publisher>\n",
      "</publicationStmt>\n",
      "<idno type=\"marc\">12251058</idno>\n",
      "<idno type=\"stc\">Wing C139.</idno>\n",
      "<idno type=\"stc\">Arber's Term cat. III 138.</idno>\n",
      "<idno type=\"vid\">57084</idno>\n",
      "<idno type=\"DLPS\">A31298</idno>\n",
      "</fileDesc>\n",
      "</tcpdata>\n",
      "<opendata>\n",
      "<teiHeader>\n",
      "<fileDesc>\n",
      "<titleStmt>\n",
      "<title>The New atlas, or, Travels and voyages in Europe, Asia, Africa, and America, thro' the most renowned parts of the world</title>\n",
      "<title type=\"alternative\">The New atlas, or, Travels and voyages in Europe, Asia, Africa, and America, thro' the most renowned parts of the world ... performed by an English gentleman, in nine years travel and voyages, more exact than ever</title>\n",
      "<title type=\"alternative\">New atlas</title>\n",
      "<author type=\"Personal\">\n",
      "<persName>T. C.</persName>\n",
      "<sex>unknown</sex>\n",
      "<birth>0</birth>\n",
      "<death>0</death>\n",
      "<idno ref=\"http://viaf.org/viaf/93425138\" type=\"viaf\">93425138</idno>\n",
      "</author>\n",
      "</titleStmt>\n",
      "<publicationStmt>\n",
      "<date>1698</date>\n",
      "<date type=\"extracted\">1698</date>\n",
      "<pubPlace ref=\"http://dbpedia.org/resource/London\">London</pubPlace>\n",
      "<persName matched=\"a. roper\">\n",
      "<publisher confidence=\"0\" type=\"Personal\">\n",
      "<persName type=\"authorityname\">Roper, Abel, 1665-1726</persName>\n",
      "<sex>unknown</sex>\n",
      "<birth>1665-01-01</birth>\n",
      "<death>1726-02-05</death>\n",
      "<idno ref=\"http://viaf.org/viaf/77718116\" type=\"viaf\">77718116</idno>\n",
      "</publisher>\n",
      "<publisher confidence=\"2\" type=\"Personal\">\n",
      "<persName type=\"authorityname\">RÃ¶per, A.</persName>\n",
      "<sex>unknown</sex>\n",
      "<birth>0</birth>\n",
      "<death>0</death>\n",
      "<idno ref=\"http://viaf.org/viaf/194410204\" type=\"viaf\">194410204</idno>\n",
      "</publisher>\n",
      "<publisher confidence=\"2\" type=\"Personal\">\n",
      "<persName type=\"authorityname\">Roper, Abel.</persName>\n",
      "<sex>unknown</sex>\n",
      "<birth>0</birth>\n",
      "<death>0</death>\n",
      "<idno ref=\"http://viaf.org/viaf/250424859\" type=\"viaf\">250424859</idno>\n",
      "</publisher>\n",
      "</persName>\n",
      "<persName unmatched=\"j. cleave\">\n",
      "<publisher confidence=\"4\" type=\"unmatched\">\n",
      "<persName type=\"unmatched\">j. cleave</persName>\n",
      "</publisher>\n",
      "</persName>\n",
      "</publicationStmt>\n",
      "<idno type=\"oclc\">12251058</idno>\n",
      "<idno type=\"oclc\">832951456</idno>\n",
      "<idno type=\"oclc\">861624617</idno>\n",
      "<idno type=\"oclc\">891541373</idno>\n",
      "<idno type=\"tcp\">A31298</idno>\n",
      "<sourceDesc>\n",
      "<ref target=\"http://www.worldcat.org/oclc/12251058.rdf\" type=\"oclc\">12251058</ref>\n",
      "<ref target=\"http://www.worldcat.org/oclc/832951456.rdf\" type=\"oclc\">832951456</ref>\n",
      "<ref target=\"http://www.worldcat.org/oclc/861624617.rdf\" type=\"oclc\">861624617</ref>\n",
      "<ref target=\"http://www.worldcat.org/oclc/891541373.rdf\" type=\"oclc\">891541373</ref>\n",
      "<ref target=\"http://viaf.org/viaf/93425138\" type=\"viaf\">93425138</ref>\n",
      "<ref target=\"http://viaf.org/viaf/77718116\" type=\"viaf\">77718116</ref>\n",
      "<ref target=\"http://viaf.org/viaf/194410204\" type=\"viaf\">194410204</ref>\n",
      "<ref target=\"http://viaf.org/viaf/250424859\" type=\"viaf\">250424859</ref>\n",
      "</sourceDesc>\n",
      "</fileDesc>\n",
      "<encodingDesc>\n",
      "<projectDesc>\n",
      "<p>Created by Matthew Milner (matthew.milner@mcgill.ca) for the Distant Reading Early Modernity Project (DREaM) of Early Modern Conversions using EEBO TCP Phases 1 &amp; 2, OCLC, and VIAF Metadata</p>\n",
      "</projectDesc>\n",
      "<editorialDecl>\n",
      "<normalization>\n",
      "<p>Normalized using VARD2</p>\n",
      "</normalization>\n",
      "<confidence>\n",
      "<p>Confidence values for VIAF matches in publicationStmt are based on name matching and dates of the agent in relation to the particular EEBO title. 0 is a confident match, 1 contains a missing date, 2 only matches a name or a permutation of the name, and no date information is present for comparison in VIAF. Confidence values of 3 or 4 appear for unmatched names. 3 indicates a possible VIAF match, however, due to data inconsistencies no permutations of the canonical name were close enough to permit a confident match. This usually occurs with pseudonyms. A value of 4 failed to find any VIAF matches, however it is clear that the text does or could represent an individual. In many cases strings with two initials (such as M. S.) will mismatch. Any clarifications or edits to this data can be submitted for future revisions.</p>\n",
      "</confidence>\n",
      "<phases>\n",
      "<p>In order to comply with EEBO TCP licensing, each header contains the EEBO TCP Phase number as an attribute in tcpid.</p>\n",
      "</phases>\n",
      "</editorialDecl>\n",
      "</encodingDesc>\n",
      "<revisionDesc>\n",
      "<date>2015-11-16</date>\n",
      "</revisionDesc>\n",
      "</teiHeader>\n",
      "</opendata>\n",
      "</dreamheader>\n",
      "</EEBO>\n"
     ]
    }
   ],
   "source": [
    "print(soup)"
   ]
  },
  {
   "cell_type": "markdown",
   "metadata": {},
   "source": [
    "Let's see if I can get out the information that I want:"
   ]
  },
  {
   "cell_type": "code",
   "execution_count": 58,
   "metadata": {
    "collapsed": false
   },
   "outputs": [
    {
     "data": {
      "text/plain": [
       "\"The New atlas, or, Travels and voyages in Europe, Asia, Africa, and America, thro' the most renowned parts of the world ... performed by an English gentleman, in nine years travel and voyages, more exact than ever.\""
      ]
     },
     "execution_count": 58,
     "metadata": {},
     "output_type": "execute_result"
    }
   ],
   "source": [
    "soup.title.string\n",
    "# without the .string, it prints the <title> tags as well"
   ]
  },
  {
   "cell_type": "code",
   "execution_count": 59,
   "metadata": {
    "collapsed": false
   },
   "outputs": [
    {
     "data": {
      "text/plain": [
       "'T. C.'"
      ]
     },
     "execution_count": 59,
     "metadata": {},
     "output_type": "execute_result"
    }
   ],
   "source": [
    "soup.author.string"
   ]
  },
  {
   "cell_type": "code",
   "execution_count": 60,
   "metadata": {
    "collapsed": false
   },
   "outputs": [
    {
     "data": {
      "text/plain": [
       "'1698.'"
      ]
     },
     "execution_count": 60,
     "metadata": {},
     "output_type": "execute_result"
    }
   ],
   "source": [
    "soup.date.string"
   ]
  },
  {
   "cell_type": "markdown",
   "metadata": {},
   "source": [
    "I can also remove the periods by doing the following:"
   ]
  },
  {
   "cell_type": "code",
   "execution_count": 61,
   "metadata": {
    "collapsed": false
   },
   "outputs": [
    {
     "name": "stdout",
     "output_type": "stream",
     "text": [
      "1698\n"
     ]
    }
   ],
   "source": [
    "date = soup.date.string\n",
    "newdate = \"\".join(char for char in date if char.isalnum())\n",
    "print(newdate)"
   ]
  },
  {
   "cell_type": "markdown",
   "metadata": {},
   "source": [
    "Now, let's see if I can integrate this back into my csv writer. Once I get that settled, I should be able to \n",
    "\n",
    "1. loop through the files with BS\n",
    "2. for each title, author, and pubdate tag, add to the csv\n",
    "\n",
    "I don't know right now how this will work best with when, say, after I have BSed the files and ran, say, an analysis of the use of I - how, then, will I add that to the proper row in the csv file? I suppose I will cross that bridge when I come to it."
   ]
  },
  {
   "cell_type": "code",
   "execution_count": 62,
   "metadata": {
    "collapsed": false
   },
   "outputs": [
    {
     "name": "stdout",
     "output_type": "stream",
     "text": [
      "Richardson Clarissa 1748\n",
      "Sterne Sentimental Journey 1768\n"
     ]
    }
   ],
   "source": [
    "with open('names.csv') as names:\n",
    "    reader = csv.DictReader(names)\n",
    "    for row in reader:\n",
    "        print(row['name'], row['title'], row['pubdate'])"
   ]
  },
  {
   "cell_type": "code",
   "execution_count": 63,
   "metadata": {
    "collapsed": false
   },
   "outputs": [],
   "source": [
    "with open('names.csv', 'a') as csvfile:\n",
    "    fieldnames = ['name', 'title', 'pubdate']\n",
    "    writer = csv.DictWriter(csvfile, delimiter=',', fieldnames = fieldnames)\n",
    "    writer.writerow({'name': soup.author.string, 'title': soup.title.string, 'pubdate': \"\".join(char for char in soup.date.string if char.isalnum())})"
   ]
  },
  {
   "cell_type": "code",
   "execution_count": 64,
   "metadata": {
    "collapsed": false
   },
   "outputs": [
    {
     "name": "stdout",
     "output_type": "stream",
     "text": [
      "Richardson Clarissa 1748\n",
      "Sterne Sentimental Journey 1768\n",
      "T. C. The New atlas, or, Travels and voyages in Europe, Asia, Africa, and America, thro' the most renowned parts of the world ... performed by an English gentleman, in nine years travel and voyages, more exact than ever. 1698\n"
     ]
    }
   ],
   "source": [
    "with open('names.csv') as names:\n",
    "    reader = csv.DictReader(names)\n",
    "    for row in reader:\n",
    "        print(row['name'], row['title'], row['pubdate'])"
   ]
  },
  {
   "cell_type": "markdown",
   "metadata": {},
   "source": [
    "Huzzah! Let's see if I can write a simple for loop to use for two files!"
   ]
  },
  {
   "cell_type": "code",
   "execution_count": 65,
   "metadata": {
    "collapsed": true
   },
   "outputs": [],
   "source": [
    "import glob\n",
    "import os"
   ]
  },
  {
   "cell_type": "code",
   "execution_count": 66,
   "metadata": {
    "collapsed": true
   },
   "outputs": [],
   "source": [
    "data_dir = 'C:\\\\Users\\\\ASUS\\\\Documents\\\\iPython\\\\data\\\\DREaM\\\\withXML\\\\testcorpus\\\\'"
   ]
  },
  {
   "cell_type": "code",
   "execution_count": 67,
   "metadata": {
    "collapsed": true
   },
   "outputs": [],
   "source": [
    "listdata_dir = os.listdir(data_dir)"
   ]
  },
  {
   "cell_type": "code",
   "execution_count": 68,
   "metadata": {
    "collapsed": false
   },
   "outputs": [
    {
     "data": {
      "text/plain": [
       "['1600 1600 - Constable Henry 1562-1613 - Discoverye of a counterfe-other.xml',\n",
       " '1601 1601 - Parry William fl 1601 - A new and large discourse.xml',\n",
       " '1698 1698 - T C - The New atlas or Travels.xml']"
      ]
     },
     "execution_count": 68,
     "metadata": {},
     "output_type": "execute_result"
    }
   ],
   "source": [
    "listdata_dir"
   ]
  },
  {
   "cell_type": "code",
   "execution_count": 69,
   "metadata": {
    "collapsed": true
   },
   "outputs": [],
   "source": [
    "fullname = []\n",
    "for name in listdata_dir:\n",
    "    filename = data_dir+name\n",
    "    fullname.append(filename)"
   ]
  },
  {
   "cell_type": "code",
   "execution_count": 70,
   "metadata": {
    "collapsed": false
   },
   "outputs": [
    {
     "name": "stdout",
     "output_type": "stream",
     "text": [
      "['C:\\\\Users\\\\ASUS\\\\Documents\\\\iPython\\\\data\\\\DREaM\\\\withXML\\\\testcorpus\\\\1600 1600 - Constable Henry 1562-1613 - Discoverye of a counterfe-other.xml', 'C:\\\\Users\\\\ASUS\\\\Documents\\\\iPython\\\\data\\\\DREaM\\\\withXML\\\\testcorpus\\\\1601 1601 - Parry William fl 1601 - A new and large discourse.xml', 'C:\\\\Users\\\\ASUS\\\\Documents\\\\iPython\\\\data\\\\DREaM\\\\withXML\\\\testcorpus\\\\1698 1698 - T C - The New atlas or Travels.xml']\n"
     ]
    }
   ],
   "source": [
    "print(fullname)"
   ]
  },
  {
   "cell_type": "code",
   "execution_count": 71,
   "metadata": {
    "collapsed": true
   },
   "outputs": [],
   "source": [
    "# here's a function to get the plain text without the weird spacing\n",
    "\n",
    "def fromsouptoplain(soupedtext):\n",
    "    stringlist = soupedtext.split()\n",
    "    finalstring = \" \".join(stringlist)\n",
    "    return finalstring\n",
    "    "
   ]
  },
  {
   "cell_type": "code",
   "execution_count": 72,
   "metadata": {
    "collapsed": false
   },
   "outputs": [
    {
     "name": "stdout",
     "output_type": "stream",
     "text": [
      "Richardson Clarissa 1748\n",
      "Sterne Sentimental Journey 1768\n",
      "T. C. The New atlas, or, Travels and voyages in Europe, Asia, Africa, and America, thro' the most renowned parts of the world ... performed by an English gentleman, in nine years travel and voyages, more exact than ever. 1698\n"
     ]
    }
   ],
   "source": [
    "# Let's print out our list as a before so we can see what it looks like...\n",
    "with open('names.csv') as names:\n",
    "    reader = csv.DictReader(names)\n",
    "    for row in reader:\n",
    "        print(row['name'], row['title'], row['pubdate'])"
   ]
  },
  {
   "cell_type": "code",
   "execution_count": 73,
   "metadata": {
    "collapsed": false
   },
   "outputs": [],
   "source": [
    "with open('names.csv', 'a') as csvfile:\n",
    "    fieldnames = ['name', 'title', 'pubdate']\n",
    "    writer = csv.DictWriter(csvfile, delimiter=',', fieldnames = fieldnames)\n",
    "    \n",
    "    # for each file as listed in fullname:\n",
    "    for file in fullname:\n",
    "    \n",
    "        # open the file\n",
    "        with open(file) as f:\n",
    "\n",
    "            # apply BeautifulSoup         \n",
    "            \n",
    "            soup = BeautifulSoup(f, \"xml\")\n",
    "            \n",
    "            # assign the variables\n",
    "            author = soup.author.get_text()\n",
    "            finalauthor = fromsouptoplain(author)\n",
    "            # \"\".join(char for char in soup.author.string if char != '\\n' and char != '\\t' and char != '\\r')\n",
    "            \n",
    "            title = soup.title.get_text()\n",
    "            finaltitle = fromsouptoplain(title)\n",
    "            \n",
    "            # date is already fine here, I think\n",
    "            date = \"\".join(char for char in soup.date.string if char.isalnum()) \n",
    "                           \n",
    "            writer.writerow({'name': finalauthor, 'title': finaltitle[:75], 'pubdate': date})\n",
    "                           \n",
    "            # also tried the code below, but it resulted in odd spacing and tabs!\n",
    "            # writer.writerow({'name': soup.author.string, 'title': soup.title.string, 'pubdate': \"\".join(char for char in soup.date.string if char.isalnum())})\n",
    "        \n",
    "          "
   ]
  },
  {
   "cell_type": "code",
   "execution_count": 74,
   "metadata": {
    "collapsed": false
   },
   "outputs": [
    {
     "name": "stdout",
     "output_type": "stream",
     "text": [
      "Richardson Clarissa 1748\n",
      "Sterne Sentimental Journey 1768\n",
      "T. C. The New atlas, or, Travels and voyages in Europe, Asia, Africa, and America, thro' the most renowned parts of the world ... performed by an English gentleman, in nine years travel and voyages, more exact than ever. 1698\n",
      "Constable, Henry, 1562-1613. Discoverye of a counterfecte conference helde at a counterfecte place, by c 1600\n",
      "Parry, William, fl. 1601. A new and large discourse of the trauels of sir Anthony Sherley Knight, by  1601\n",
      "T. C. The New atlas, or, Travels and voyages in Europe, Asia, Africa, and America 1698\n"
     ]
    }
   ],
   "source": [
    "# Let's print out our list as a before so we can see what it looks like...\n",
    "with open('names.csv') as names:\n",
    "    reader = csv.DictReader(names)\n",
    "    for row in reader:\n",
    "        print(row['name'], row['title'], row['pubdate'])"
   ]
  },
  {
   "cell_type": "code",
   "execution_count": null,
   "metadata": {
    "collapsed": true
   },
   "outputs": [],
   "source": []
  }
 ],
 "metadata": {
  "kernelspec": {
   "display_name": "Python 3",
   "language": "python",
   "name": "python3"
  },
  "language_info": {
   "codemirror_mode": {
    "name": "ipython",
    "version": 3
   },
   "file_extension": ".py",
   "mimetype": "text/x-python",
   "name": "python",
   "nbconvert_exporter": "python",
   "pygments_lexer": "ipython3",
   "version": "3.5.1"
  }
 },
 "nbformat": 4,
 "nbformat_minor": 0
}
